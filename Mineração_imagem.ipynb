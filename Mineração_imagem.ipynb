{
  "nbformat": 4,
  "nbformat_minor": 0,
  "metadata": {
    "colab": {
      "provenance": []
    },
    "kernelspec": {
      "name": "python3",
      "display_name": "Python 3"
    },
    "language_info": {
      "name": "python"
    }
  },
  "cells": [
    {
      "cell_type": "markdown",
      "source": [
        "# Mineração de imagens\n",
        "\n",
        "Aluna: Ana Letícia Garcez Vicente\n",
        "\n",
        "nº USP: 10746842"
      ],
      "metadata": {
        "id": "HFXJbPyzrrBS"
      }
    },
    {
      "cell_type": "markdown",
      "source": [
        "# 2.1 Identificação do Problema"
      ],
      "metadata": {
        "id": "TtcLouuFwtve"
      }
    },
    {
      "cell_type": "markdown",
      "source": [
        "O diagnóstico precoce e preciso da doença de Alzheimer é fundamental para a implementação de intervenções terapêuticas eficazes e o planejamento adequado do tratamento. No entanto, essa tarefa é frequentemente desafiadora. Uma das abordagens valiosas no diagnóstico do Alzheimer envolve o uso de técnicas de imagem, como a Ressonância Magnética (MRI).\n",
        "\n",
        "A Ressonância Magnética é uma tecnologia de imagem médica que utiliza campos magnéticos e ondas de rádio para criar imagens detalhadas das estruturas internas do corpo humano. O que permite capturar alterações anatômicas relacionadas com a progessão do Alzheimer.\n",
        "\n",
        "O dataset utilizado neste estudo consiste em imagens de Ressonância Magnética (MRI) com resolução de 128x128 pixels, contendo quatro grupos distintos de imagens, cada um deles representando diferentes estágios ou condições relacionadas à demência. Esses grupos são definidos da seguinte maneira:\n",
        "\n",
        "*   Classe 1 - Mild Dementia (896 imagens): estágio inicial de demência leve;\n",
        "*   Classe 2 - Moderate Dementia (64 imagens): demência moderada;\n",
        "*   Classe 3 - Non Demented (3200 imagens): não apresentam sinais de demência;\n",
        "*   Classe 4 - Very Mild Demented (2240 imagens): estágio muito leve de demência.\n",
        "\n",
        "Devido ao desbalanceamento das classes e com o objetivo de simplicar a análise, este trabalho utilizará apenas as imagens das classes 3 e 4, com o objetivo de classificar através de um algoritmo as imagens entre essas duas classes. Essa abordagem visa aprofundar nossa compreensão das características de imagem que podem estar associadas à ausência ou aos estágios iniciais da demência de Alzheimer, fornecendo informações valiosas para o diagnóstico e a pesquisa nessa área crucial da medicina.\n"
      ],
      "metadata": {
        "id": "yg3W2JAyfN7f"
      }
    },
    {
      "cell_type": "markdown",
      "source": [
        "O dataset utilizado foi o [Alzheimer MRI Preprocessed Dataset](https://www.kaggle.com/datasets/sachinkumar413/alzheimer-mri-dataset/) extraído do Kaggle."
      ],
      "metadata": {
        "id": "nZxWUFCwg3cB"
      }
    },
    {
      "cell_type": "code",
      "source": [
        "import numpy as np\n",
        "import pandas as pd\n",
        "import cv2 as cv\n",
        "from google.colab.patches import cv2_imshow\n",
        "from skimage import io\n",
        "from PIL import Image\n",
        "import matplotlib.pylab as plt\n",
        "import zipfile"
      ],
      "metadata": {
        "id": "O105cK3Iw3Z2"
      },
      "execution_count": 1,
      "outputs": []
    },
    {
      "cell_type": "code",
      "source": [
        "# Download Dataset - Non_demented\n",
        "\n",
        "!gdown --id 1vEeY_lKwmBHFTtOWUz_LhwZhxTvgEVNh -O non_demented.zip"
      ],
      "metadata": {
        "colab": {
          "base_uri": "https://localhost:8080/"
        },
        "id": "k-ljI9exrqBl",
        "outputId": "1c9e7078-d8be-45d7-bdc0-dc172801d879"
      },
      "execution_count": 2,
      "outputs": [
        {
          "output_type": "stream",
          "name": "stdout",
          "text": [
            "/usr/local/lib/python3.10/dist-packages/gdown/cli.py:121: FutureWarning: Option `--id` was deprecated in version 4.3.1 and will be removed in 5.0. You don't need to pass it anymore to use a file ID.\n",
            "  warnings.warn(\n",
            "Downloading...\n",
            "From: https://drive.google.com/uc?id=1vEeY_lKwmBHFTtOWUz_LhwZhxTvgEVNh\n",
            "To: /content/non_demented.zip\n",
            "100% 14.7M/14.7M [00:00<00:00, 43.2MB/s]\n"
          ]
        }
      ]
    },
    {
      "cell_type": "code",
      "source": [
        "!unzip non_demented.zip > /dev/null"
      ],
      "metadata": {
        "id": "tZaBYN_ztDvA"
      },
      "execution_count": 3,
      "outputs": []
    },
    {
      "cell_type": "code",
      "source": [
        "image = io.imread('Non_Demented/non.jpg')\n",
        "image = cv.cvtColor(image, cv.COLOR_BGR2RGB)\n",
        "cv2_imshow(image)"
      ],
      "metadata": {
        "colab": {
          "base_uri": "https://localhost:8080/",
          "height": 145
        },
        "id": "XhQDDdnk4VEB",
        "outputId": "e89fda6c-4bf5-449c-d225-3623febb268a"
      },
      "execution_count": 4,
      "outputs": [
        {
          "output_type": "display_data",
          "data": {
            "text/plain": [
              "<PIL.Image.Image image mode=RGB size=128x128>"
            ],
            "image/png": "[encoded data removed]"
          },
          "metadata": {}
        }
      ]
    },
    {
      "cell_type": "code",
      "source": [
        "# Download Dataset - Very_mild_demented\n",
        "\n",
        "!gdown --id 1qSaMavBlmoAsPv3Yn5r7YlAi54zQ1nNK -O very_mild_demented.zip"
      ],
      "metadata": {
        "colab": {
          "base_uri": "https://localhost:8080/"
        },
        "id": "MsZdqwVYudX4",
        "outputId": "4a59ed01-c291-47f3-9087-56facbf87c54"
      },
      "execution_count": 5,
      "outputs": [
        {
          "output_type": "stream",
          "name": "stdout",
          "text": [
            "/usr/local/lib/python3.10/dist-packages/gdown/cli.py:121: FutureWarning: Option `--id` was deprecated in version 4.3.1 and will be removed in 5.0. You don't need to pass it anymore to use a file ID.\n",
            "  warnings.warn(\n",
            "Downloading...\n",
            "From: https://drive.google.com/uc?id=1qSaMavBlmoAsPv3Yn5r7YlAi54zQ1nNK\n",
            "To: /content/very_mild_demented.zip\n",
            "100% 10.4M/10.4M [00:00<00:00, 29.8MB/s]\n"
          ]
        }
      ]
    },
    {
      "cell_type": "code",
      "source": [
        "!unzip very_mild_demented.zip > /dev/null"
      ],
      "metadata": {
        "id": "vQ6gb9wdupqJ"
      },
      "execution_count": 6,
      "outputs": []
    },
    {
      "cell_type": "code",
      "source": [
        "image = io.imread('Very_Mild_Demented/verymild.jpg')\n",
        "image = cv.cvtColor(image, cv.COLOR_BGR2RGB)\n",
        "cv2_imshow(image)"
      ],
      "metadata": {
        "colab": {
          "base_uri": "https://localhost:8080/",
          "height": 145
        },
        "id": "BK8tErJp4dtX",
        "outputId": "2471e701-1860-441f-d252-a3af66b9d312"
      },
      "execution_count": 7,
      "outputs": [
        {
          "output_type": "display_data",
          "data": {
            "text/plain": [
              "<PIL.Image.Image image mode=RGB size=128x128>"
            ],
            "image/png": "[encoded data removed]"
          },
          "metadata": {}
        }
      ]
    },
    {
      "cell_type": "markdown",
      "source": [
        "# 2.2 Pré-Processamento"
      ],
      "metadata": {
        "id": "PoYM-foPwzwD"
      }
    },
    {
      "cell_type": "code",
      "source": [
        "diretorio_classe_A = \"Non_Demented\"\n",
        "diretorio_classe_B = \"Very_Mild_Demented\""
      ],
      "metadata": {
        "id": "xPwVVZ4bHrIL"
      },
      "execution_count": 8,
      "outputs": []
    },
    {
      "cell_type": "code",
      "source": [
        "import os\n",
        "import random\n",
        "\n",
        "# Pasta que contém as imagens\n",
        "pasta_imagens = diretorio_classe_A\n",
        "\n",
        "# Listar todas as imagens na pasta\n",
        "imagens = os.listdir(pasta_imagens)\n",
        "\n",
        "numero_desejado = 2240\n",
        "\n",
        "if len(imagens) > numero_desejado:\n",
        "  # Calcule quantas imagens devem ser excluídas\n",
        "  numero_a_excluir = len(imagens) - numero_desejado\n",
        "\n",
        "  # Escolha imagens aleatoriamente para excluir\n",
        "  imagens_a_excluir = random.sample(imagens, numero_a_excluir)\n",
        "\n",
        "  # Excluir as imagens selecionadas\n",
        "  for imagem in imagens_a_excluir:\n",
        "    caminho_imagem = os.path.join(pasta_imagens, imagem)\n",
        "    os.remove(caminho_imagem)\n",
        "\n",
        "  print(f'{numero_a_excluir} imagens foram excluídas.')\n",
        "else:\n",
        "  print(f'Você já tem menos de {numero_desejado} imagens na pasta.')"
      ],
      "metadata": {
        "colab": {
          "base_uri": "https://localhost:8080/"
        },
        "id": "7AULgfUJC_zS",
        "outputId": "07257e60-3dfa-47e5-82d6-47c605a4063f"
      },
      "execution_count": 9,
      "outputs": [
        {
          "output_type": "stream",
          "name": "stdout",
          "text": [
            "960 imagens foram excluídas.\n"
          ]
        }
      ]
    },
    {
      "cell_type": "code",
      "source": [
        "arquivos_na_pasta = os.listdir(pasta_imagens)\n",
        "len(arquivos_na_pasta)"
      ],
      "metadata": {
        "colab": {
          "base_uri": "https://localhost:8080/"
        },
        "id": "v66oCv91DWI4",
        "outputId": "7de86629-ca53-4918-e0ee-5e7d1c825254"
      },
      "execution_count": 10,
      "outputs": [
        {
          "output_type": "execute_result",
          "data": {
            "text/plain": [
              "2240"
            ]
          },
          "metadata": {},
          "execution_count": 10
        }
      ]
    },
    {
      "cell_type": "markdown",
      "source": [
        "## Histograma de cores"
      ],
      "metadata": {
        "id": "3JmVnSHiw4fL"
      }
    },
    {
      "cell_type": "code",
      "source": [
        "image = io.imread('Non_Demented/non.jpg')\n",
        "\n",
        "if len(image.shape) == 2:  # Check if it's already grayscale\n",
        "  gray_image = image\n",
        "else:\n",
        "  gray_image = cv.cvtColor(image, cv.COLOR_BGR2GRAY)\n",
        "\n",
        "plt.hist(gray_image.ravel(), bins=256, range=[0, 256])\n",
        "plt.show()"
      ],
      "metadata": {
        "id": "KQOdnlE1zNUM",
        "colab": {
          "base_uri": "https://localhost:8080/",
          "height": 430
        },
        "outputId": "135a2fa7-2594-49ea-f107-d816f3e755fa"
      },
      "execution_count": 11,
      "outputs": [
        {
          "output_type": "display_data",
          "data": {
            "text/plain": [
              "<Figure size 640x480 with 1 Axes>"
            ],
            "image/png": "[encoded data removed]"
          },
          "metadata": {}
        }
      ]
    },
    {
      "cell_type": "code",
      "source": [
        "image = io.imread('Very_Mild_Demented/verymild.jpg')\n",
        "\n",
        "if len(image.shape) == 2:  # Check if it's already grayscale\n",
        "  gray_image = image\n",
        "else:\n",
        "  gray_image = cv.cvtColor(image, cv.COLOR_BGR2GRAY)\n",
        "\n",
        "plt.hist(gray_image.ravel(), bins=256, range=[0, 256])\n",
        "plt.show()"
      ],
      "metadata": {
        "colab": {
          "base_uri": "https://localhost:8080/",
          "height": 430
        },
        "id": "GB5PxkfI9rYf",
        "outputId": "76dc401a-434a-48e4-cd1f-c6a56409cacd"
      },
      "execution_count": 12,
      "outputs": [
        {
          "output_type": "display_data",
          "data": {
            "text/plain": [
              "<Figure size 640x480 with 1 Axes>"
            ],
            "image/png": "[encoded data removed]"
          },
          "metadata": {}
        }
      ]
    },
    {
      "cell_type": "code",
      "source": [
        "import cv2\n",
        "import os\n",
        "import glob\n",
        "import numpy as np\n",
        "\n",
        "# Defina o diretório das pastas das duas classes\n",
        "\n",
        "# Função para carregar imagens em escala de cinza e redimensionar, se necessário\n",
        "def calcular_histograma(imagem):\n",
        "  hist = cv2.calcHist([imagem], [0], None, [256], [0, 256])\n",
        "  return hist.flatten()\n",
        "\n",
        "# Listar imagens da classe A e carregar em escala de cinza\n",
        "imagens_classe_A = glob.glob(os.path.join(diretorio_classe_A, \"*.jpg\"))\n",
        "dados_classe_A = []\n",
        "rotulos_classe_A = []\n",
        "\n",
        "for imagem_path in imagens_classe_A:\n",
        "  img = cv2.imread(imagem_path, cv2.IMREAD_GRAYSCALE)\n",
        "  hist = calcular_histograma(img)\n",
        "  dados_classe_A.append(hist)\n",
        "  rotulos_classe_A.append(0)  # Rotular como classe 0\n",
        "\n",
        "# Listar imagens da classe B e carregar em escala de cinza\n",
        "imagens_classe_B = glob.glob(os.path.join(diretorio_classe_B, \"*.jpg\"))\n",
        "dados_classe_B = []\n",
        "rotulos_classe_B = []\n",
        "\n",
        "for imagem_path in imagens_classe_B:\n",
        "  img = cv2.imread(imagem_path, cv2.IMREAD_GRAYSCALE)\n",
        "  hist = calcular_histograma(img)\n",
        "  dados_classe_B.append(hist)\n",
        "  rotulos_classe_B.append(1)  # Rotular como classe 1\n",
        "\n",
        "# Concatenar os dados e rótulos das duas classes\n",
        "dados = np.vstack([dados_classe_A, dados_classe_B])\n",
        "rotulos = np.array(rotulos_classe_A + rotulos_classe_B)"
      ],
      "metadata": {
        "id": "jG6RD9j65UmJ"
      },
      "execution_count": 13,
      "outputs": []
    },
    {
      "cell_type": "code",
      "source": [
        "dados.shape"
      ],
      "metadata": {
        "colab": {
          "base_uri": "https://localhost:8080/"
        },
        "id": "1fHYp70q-ngI",
        "outputId": "a941e9c0-e803-45ee-a7ac-a1b55a7087fd"
      },
      "execution_count": 14,
      "outputs": [
        {
          "output_type": "execute_result",
          "data": {
            "text/plain": [
              "(4480, 256)"
            ]
          },
          "metadata": {},
          "execution_count": 14
        }
      ]
    },
    {
      "cell_type": "markdown",
      "source": [
        "## ResNet"
      ],
      "metadata": {
        "id": "ucAerbjxw-Tr"
      }
    },
    {
      "cell_type": "code",
      "source": [
        "import torch\n",
        "import torch.nn as nn\n",
        "import torchvision.models as models\n",
        "import torchvision.transforms as transforms\n",
        "from torch.autograd import Variable\n",
        "\n",
        "model = models.resnet18(pretrained=True)\n",
        "\n",
        "layer = model._modules.get('avgpool')\n",
        "model.eval()\n",
        "\n",
        "scaler = transforms.Resize((224, 224))\n",
        "\n",
        "#normalize = transforms.Normalize(mean=[0.485, 0.456, 0.406], std=[0.229, 0.224, 0.225])\n",
        "to_tensor = transforms.ToTensor()"
      ],
      "metadata": {
        "id": "OW_BWTqAxDdv",
        "colab": {
          "base_uri": "https://localhost:8080/"
        },
        "outputId": "c112d251-3c7e-46e9-fc27-229fc7ef029d"
      },
      "execution_count": 15,
      "outputs": [
        {
          "output_type": "stream",
          "name": "stderr",
          "text": [
            "/usr/local/lib/python3.10/dist-packages/torchvision/models/_utils.py:208: UserWarning: The parameter 'pretrained' is deprecated since 0.13 and may be removed in the future, please use 'weights' instead.\n",
            "  warnings.warn(\n",
            "/usr/local/lib/python3.10/dist-packages/torchvision/models/_utils.py:223: UserWarning: Arguments other than a weight enum or `None` for 'weights' are deprecated since 0.13 and may be removed in the future. The current behavior is equivalent to passing `weights=ResNet18_Weights.IMAGENET1K_V1`. You can also use `weights=ResNet18_Weights.DEFAULT` to get the most up-to-date weights.\n",
            "  warnings.warn(msg)\n",
            "Downloading: \"https://download.pytorch.org/models/resnet18-f37072fd.pth\" to /root/.cache/torch/hub/checkpoints/resnet18-f37072fd.pth\n",
            "100%|██████████| 44.7M/44.7M [00:00<00:00, 172MB/s]\n"
          ]
        }
      ]
    },
    {
      "cell_type": "code",
      "source": [
        "import numpy as np\n",
        "\n",
        "def gerar_embeddings(arquivo_imagem):\n",
        "\n",
        "\n",
        "  img = Image.open(arquivo_imagem).convert('RGB')\n",
        "  #img_transformada = Variable(normalize(to_tensor(scaler(img))).unsqueeze(0))\n",
        "  img_transformada = Variable(to_tensor(scaler(img)).unsqueeze(0))\n",
        "\n",
        "  embedding = torch.zeros(512) # armazenado espaço\n",
        "\n",
        "  def capturar_embedding(m, i, o):\n",
        "      embedding.copy_(o.data.reshape(o.data.size(1)))\n",
        "\n",
        "  # capturando embeddings\n",
        "  h = layer.register_forward_hook(capturar_embedding)\n",
        "  model(img_transformada)\n",
        "\n",
        "  h.remove()\n",
        "\n",
        "  return np.array(embedding)"
      ],
      "metadata": {
        "id": "-2u3C2YtGUfi"
      },
      "execution_count": 16,
      "outputs": []
    },
    {
      "cell_type": "code",
      "source": [
        "imagens_classe_A = glob.glob(os.path.join(diretorio_classe_A, \"*.jpg\"))\n",
        "imagens_classe_B = glob.glob(os.path.join(diretorio_classe_B, \"*.jpg\"))\n",
        "\n",
        "# Listas para armazenar embeddings e rótulos\n",
        "embeddings = []\n",
        "rotulos = []\n",
        "\n",
        "# Gerar embeddings para as imagens da classe A\n",
        "for imagem_path in imagens_classe_A:\n",
        "  embedding = gerar_embeddings(imagem_path)\n",
        "  embeddings.append(embedding)\n",
        "  rotulos.append(0)  # Rotular como classe 0 (Classe A)\n",
        "\n",
        "# Gerar embeddings para as imagens da classe B\n",
        "for imagem_path in imagens_classe_B:\n",
        "  embedding = gerar_embeddings(imagem_path)\n",
        "  embeddings.append(embedding)\n",
        "  rotulos.append(1)  # Rotular como classe 1 (Classe B)\n",
        "\n",
        "# Converter listas em arrays numpy\n",
        "embeddings = np.vstack(embeddings)\n",
        "rotulos = np.array(rotulos)"
      ],
      "metadata": {
        "id": "7uMMFeCJGlvR"
      },
      "execution_count": 17,
      "outputs": []
    },
    {
      "cell_type": "code",
      "source": [
        "embeddings.shape"
      ],
      "metadata": {
        "colab": {
          "base_uri": "https://localhost:8080/"
        },
        "id": "_w4BdVqeSPpt",
        "outputId": "b28854ae-1af6-437c-e899-82c1121b5c3c"
      },
      "execution_count": 18,
      "outputs": [
        {
          "output_type": "execute_result",
          "data": {
            "text/plain": [
              "(4480, 512)"
            ]
          },
          "metadata": {},
          "execution_count": 18
        }
      ]
    },
    {
      "cell_type": "markdown",
      "source": [
        "# 2.3 Extração de Padrões - Classificação"
      ],
      "metadata": {
        "id": "sooZwUFAxFrB"
      }
    },
    {
      "cell_type": "code",
      "source": [
        "import numpy as np\n",
        "from sklearn.neural_network import MLPClassifier\n",
        "from sklearn.model_selection import train_test_split\n",
        "from sklearn.metrics import f1_score, classification_report, confusion_matrix, accuracy_score\n",
        "import seaborn as sns\n",
        "import matplotlib.pyplot as plt"
      ],
      "metadata": {
        "id": "ldYEInblBSvS"
      },
      "execution_count": 19,
      "outputs": []
    },
    {
      "cell_type": "markdown",
      "source": [
        "## Histograma de Cores"
      ],
      "metadata": {
        "id": "ezDqJQT8ArOQ"
      }
    },
    {
      "cell_type": "code",
      "source": [
        "# Dividir o conjunto de dados em treinamento e teste (70% treinamento, 30% teste)\n",
        "dados_treinamento1, dados_teste1, rotulos_treinamento1, rotulos_teste1 = train_test_split(\n",
        "    dados, rotulos, test_size=0.3, random_state=42)\n",
        "\n",
        "# Inicializar a MLP\n",
        "mlp1 = MLPClassifier(hidden_layer_sizes=(100,), max_iter=1000, random_state=42)\n",
        "\n",
        "# Treinar a MLP\n",
        "mlp1.fit(dados_treinamento1, rotulos_treinamento1)"
      ],
      "metadata": {
        "id": "HInttfSFxKc-",
        "colab": {
          "base_uri": "https://localhost:8080/",
          "height": 75
        },
        "outputId": "f23cb092-67f8-44d6-fbff-237b8be27271"
      },
      "execution_count": 20,
      "outputs": [
        {
          "output_type": "execute_result",
          "data": {
            "text/plain": [
              "MLPClassifier(max_iter=1000, random_state=42)"
            ],
            "text/html": [
              "<style>#sk-container-id-1 {color: black;background-color: white;}#sk-container-id-1 pre{padding: 0;}#sk-container-id-1 div.sk-toggleable {background-color: white;}#sk-container-id-1 label.sk-toggleable__label {cursor: pointer;display: block;width: 100%;margin-bottom: 0;padding: 0.3em;box-sizing: border-box;text-align: center;}#sk-container-id-1 label.sk-toggleable__label-arrow:before {content: \"▸\";float: left;margin-right: 0.25em;color: #696969;}#sk-container-id-1 label.sk-toggleable__label-arrow:hover:before {color: black;}#sk-container-id-1 div.sk-estimator:hover label.sk-toggleable__label-arrow:before {color: black;}#sk-container-id-1 div.sk-toggleable__content {max-height: 0;max-width: 0;overflow: hidden;text-align: left;background-color: #f0f8ff;}#sk-container-id-1 div.sk-toggleable__content pre {margin: 0.2em;color: black;border-radius: 0.25em;background-color: #f0f8ff;}#sk-container-id-1 input.sk-toggleable__control:checked~div.sk-toggleable__content {max-height: 200px;max-width: 100%;overflow: auto;}#sk-container-id-1 input.sk-toggleable__control:checked~label.sk-toggleable__label-arrow:before {content: \"▾\";}#sk-container-id-1 div.sk-estimator input.sk-toggleable__control:checked~label.sk-toggleable__label {background-color: #d4ebff;}#sk-container-id-1 div.sk-label input.sk-toggleable__control:checked~label.sk-toggleable__label {background-color: #d4ebff;}#sk-container-id-1 input.sk-hidden--visually {border: 0;clip: rect(1px 1px 1px 1px);clip: rect(1px, 1px, 1px, 1px);height: 1px;margin: -1px;overflow: hidden;padding: 0;position: absolute;width: 1px;}#sk-container-id-1 div.sk-estimator {font-family: monospace;background-color: #f0f8ff;border: 1px dotted black;border-radius: 0.25em;box-sizing: border-box;margin-bottom: 0.5em;}#sk-container-id-1 div.sk-estimator:hover {background-color: #d4ebff;}#sk-container-id-1 div.sk-parallel-item::after {content: \"\";width: 100%;border-bottom: 1px solid gray;flex-grow: 1;}#sk-container-id-1 div.sk-label:hover label.sk-toggleable__label {background-color: #d4ebff;}#sk-container-id-1 div.sk-serial::before {content: \"\";position: absolute;border-left: 1px solid gray;box-sizing: border-box;top: 0;bottom: 0;left: 50%;z-index: 0;}#sk-container-id-1 div.sk-serial {display: flex;flex-direction: column;align-items: center;background-color: white;padding-right: 0.2em;padding-left: 0.2em;position: relative;}#sk-container-id-1 div.sk-item {position: relative;z-index: 1;}#sk-container-id-1 div.sk-parallel {display: flex;align-items: stretch;justify-content: center;background-color: white;position: relative;}#sk-container-id-1 div.sk-item::before, #sk-container-id-1 div.sk-parallel-item::before {content: \"\";position: absolute;border-left: 1px solid gray;box-sizing: border-box;top: 0;bottom: 0;left: 50%;z-index: -1;}#sk-container-id-1 div.sk-parallel-item {display: flex;flex-direction: column;z-index: 1;position: relative;background-color: white;}#sk-container-id-1 div.sk-parallel-item:first-child::after {align-self: flex-end;width: 50%;}#sk-container-id-1 div.sk-parallel-item:last-child::after {align-self: flex-start;width: 50%;}#sk-container-id-1 div.sk-parallel-item:only-child::after {width: 0;}#sk-container-id-1 div.sk-dashed-wrapped {border: 1px dashed gray;margin: 0 0.4em 0.5em 0.4em;box-sizing: border-box;padding-bottom: 0.4em;background-color: white;}#sk-container-id-1 div.sk-label label {font-family: monospace;font-weight: bold;display: inline-block;line-height: 1.2em;}#sk-container-id-1 div.sk-label-container {text-align: center;}#sk-container-id-1 div.sk-container {/* jupyter's `normalize.less` sets `[hidden] { display: none; }` but bootstrap.min.css set `[hidden] { display: none !important; }` so we also need the `!important` here to be able to override the default hidden behavior on the sphinx rendered scikit-learn.org. See: https://github.com/scikit-learn/scikit-learn/issues/21755 */display: inline-block !important;position: relative;}#sk-container-id-1 div.sk-text-repr-fallback {display: none;}</style><div id=\"sk-container-id-1\" class=\"sk-top-container\"><div class=\"sk-text-repr-fallback\"><pre>MLPClassifier(max_iter=1000, random_state=42)</pre><b>In a Jupyter environment, please rerun this cell to show the HTML representation or trust the notebook. <br />On GitHub, the HTML representation is unable to render, please try loading this page with nbviewer.org.</b></div><div class=\"sk-container\" hidden><div class=\"sk-item\"><div class=\"sk-estimator sk-toggleable\"><input class=\"sk-toggleable__control sk-hidden--visually\" id=\"sk-estimator-id-1\" type=\"checkbox\" checked><label for=\"sk-estimator-id-1\" class=\"sk-toggleable__label sk-toggleable__label-arrow\">MLPClassifier</label><div class=\"sk-toggleable__content\"><pre>MLPClassifier(max_iter=1000, random_state=42)</pre></div></div></div></div></div>"
            ]
          },
          "metadata": {},
          "execution_count": 20
        }
      ]
    },
    {
      "cell_type": "markdown",
      "source": [
        "## ResNet"
      ],
      "metadata": {
        "id": "8q-3TcR-GB-z"
      }
    },
    {
      "cell_type": "code",
      "source": [
        "# Dividir o conjunto de dados em treinamento e teste (70% treinamento, 30% teste)\n",
        "dados_treinamento2, dados_teste2, rotulos_treinamento2, rotulos_teste2 = train_test_split(\n",
        "    embeddings, rotulos, test_size=0.3, random_state=42)\n",
        "\n",
        "# Inicializar a MLP\n",
        "mlp2 = MLPClassifier(hidden_layer_sizes=(100,), max_iter=1000, random_state=42)\n",
        "\n",
        "# Treinar a MLP\n",
        "mlp2.fit(dados_treinamento2, rotulos_treinamento2)"
      ],
      "metadata": {
        "colab": {
          "base_uri": "https://localhost:8080/",
          "height": 75
        },
        "id": "SJT1XHPCMxdK",
        "outputId": "d6f3b945-7aab-4888-ac4c-b5a9154699de"
      },
      "execution_count": 21,
      "outputs": [
        {
          "output_type": "execute_result",
          "data": {
            "text/plain": [
              "MLPClassifier(max_iter=1000, random_state=42)"
            ],
            "text/html": [
              "<style>#sk-container-id-2 {color: black;background-color: white;}#sk-container-id-2 pre{padding: 0;}#sk-container-id-2 div.sk-toggleable {background-color: white;}#sk-container-id-2 label.sk-toggleable__label {cursor: pointer;display: block;width: 100%;margin-bottom: 0;padding: 0.3em;box-sizing: border-box;text-align: center;}#sk-container-id-2 label.sk-toggleable__label-arrow:before {content: \"▸\";float: left;margin-right: 0.25em;color: #696969;}#sk-container-id-2 label.sk-toggleable__label-arrow:hover:before {color: black;}#sk-container-id-2 div.sk-estimator:hover label.sk-toggleable__label-arrow:before {color: black;}#sk-container-id-2 div.sk-toggleable__content {max-height: 0;max-width: 0;overflow: hidden;text-align: left;background-color: #f0f8ff;}#sk-container-id-2 div.sk-toggleable__content pre {margin: 0.2em;color: black;border-radius: 0.25em;background-color: #f0f8ff;}#sk-container-id-2 input.sk-toggleable__control:checked~div.sk-toggleable__content {max-height: 200px;max-width: 100%;overflow: auto;}#sk-container-id-2 input.sk-toggleable__control:checked~label.sk-toggleable__label-arrow:before {content: \"▾\";}#sk-container-id-2 div.sk-estimator input.sk-toggleable__control:checked~label.sk-toggleable__label {background-color: #d4ebff;}#sk-container-id-2 div.sk-label input.sk-toggleable__control:checked~label.sk-toggleable__label {background-color: #d4ebff;}#sk-container-id-2 input.sk-hidden--visually {border: 0;clip: rect(1px 1px 1px 1px);clip: rect(1px, 1px, 1px, 1px);height: 1px;margin: -1px;overflow: hidden;padding: 0;position: absolute;width: 1px;}#sk-container-id-2 div.sk-estimator {font-family: monospace;background-color: #f0f8ff;border: 1px dotted black;border-radius: 0.25em;box-sizing: border-box;margin-bottom: 0.5em;}#sk-container-id-2 div.sk-estimator:hover {background-color: #d4ebff;}#sk-container-id-2 div.sk-parallel-item::after {content: \"\";width: 100%;border-bottom: 1px solid gray;flex-grow: 1;}#sk-container-id-2 div.sk-label:hover label.sk-toggleable__label {background-color: #d4ebff;}#sk-container-id-2 div.sk-serial::before {content: \"\";position: absolute;border-left: 1px solid gray;box-sizing: border-box;top: 0;bottom: 0;left: 50%;z-index: 0;}#sk-container-id-2 div.sk-serial {display: flex;flex-direction: column;align-items: center;background-color: white;padding-right: 0.2em;padding-left: 0.2em;position: relative;}#sk-container-id-2 div.sk-item {position: relative;z-index: 1;}#sk-container-id-2 div.sk-parallel {display: flex;align-items: stretch;justify-content: center;background-color: white;position: relative;}#sk-container-id-2 div.sk-item::before, #sk-container-id-2 div.sk-parallel-item::before {content: \"\";position: absolute;border-left: 1px solid gray;box-sizing: border-box;top: 0;bottom: 0;left: 50%;z-index: -1;}#sk-container-id-2 div.sk-parallel-item {display: flex;flex-direction: column;z-index: 1;position: relative;background-color: white;}#sk-container-id-2 div.sk-parallel-item:first-child::after {align-self: flex-end;width: 50%;}#sk-container-id-2 div.sk-parallel-item:last-child::after {align-self: flex-start;width: 50%;}#sk-container-id-2 div.sk-parallel-item:only-child::after {width: 0;}#sk-container-id-2 div.sk-dashed-wrapped {border: 1px dashed gray;margin: 0 0.4em 0.5em 0.4em;box-sizing: border-box;padding-bottom: 0.4em;background-color: white;}#sk-container-id-2 div.sk-label label {font-family: monospace;font-weight: bold;display: inline-block;line-height: 1.2em;}#sk-container-id-2 div.sk-label-container {text-align: center;}#sk-container-id-2 div.sk-container {/* jupyter's `normalize.less` sets `[hidden] { display: none; }` but bootstrap.min.css set `[hidden] { display: none !important; }` so we also need the `!important` here to be able to override the default hidden behavior on the sphinx rendered scikit-learn.org. See: https://github.com/scikit-learn/scikit-learn/issues/21755 */display: inline-block !important;position: relative;}#sk-container-id-2 div.sk-text-repr-fallback {display: none;}</style><div id=\"sk-container-id-2\" class=\"sk-top-container\"><div class=\"sk-text-repr-fallback\"><pre>MLPClassifier(max_iter=1000, random_state=42)</pre><b>In a Jupyter environment, please rerun this cell to show the HTML representation or trust the notebook. <br />On GitHub, the HTML representation is unable to render, please try loading this page with nbviewer.org.</b></div><div class=\"sk-container\" hidden><div class=\"sk-item\"><div class=\"sk-estimator sk-toggleable\"><input class=\"sk-toggleable__control sk-hidden--visually\" id=\"sk-estimator-id-2\" type=\"checkbox\" checked><label for=\"sk-estimator-id-2\" class=\"sk-toggleable__label sk-toggleable__label-arrow\">MLPClassifier</label><div class=\"sk-toggleable__content\"><pre>MLPClassifier(max_iter=1000, random_state=42)</pre></div></div></div></div></div>"
            ]
          },
          "metadata": {},
          "execution_count": 21
        }
      ]
    },
    {
      "cell_type": "markdown",
      "source": [
        "# 2.4 Pós-Processamento"
      ],
      "metadata": {
        "id": "Fb-flPxOxNjz"
      }
    },
    {
      "cell_type": "markdown",
      "source": [
        "Para avaliar o desempenho dos classificadores criados anteriormente, utilizaremos métricas de avaliação, com ênfase no F1-score (comumente usado para dados médicos) e na acurácia. Além disso, faremos uso da matriz de confusão."
      ],
      "metadata": {
        "id": "BQrkX18AS-r7"
      }
    },
    {
      "cell_type": "markdown",
      "source": [
        "## Histograma de Cores"
      ],
      "metadata": {
        "id": "kr4YWCOfNahB"
      }
    },
    {
      "cell_type": "code",
      "source": [
        "# Prever as classes das imagens de teste\n",
        "predicoes1 = mlp1.predict(dados_teste1)\n",
        "\n",
        "# Calcular o F1-score\n",
        "f11 = f1_score(rotulos_teste1, predicoes1)\n",
        "acc1 = accuracy_score(rotulos_teste1, predicoes1)\n",
        "\n",
        "# Imprimir o relatório de classificação (incluindo precisão, recall e F1-score)\n",
        "relatorio1 = classification_report(rotulos_teste1, predicoes1, target_names=[\"Non_Demented\", \"Very_Mild_Demented\"])\n",
        "print(\"Relatório de Classificação:\")\n",
        "print(relatorio1)\n",
        "\n",
        "print(f\"F1-score: {f11:.2f}\")\n",
        "print(f\"Acurácia: {acc1:.2f}\")"
      ],
      "metadata": {
        "colab": {
          "base_uri": "https://localhost:8080/"
        },
        "id": "tWHOJ--yU-Dc",
        "outputId": "0717f517-9aca-4c9f-814d-1ba0e73de19c"
      },
      "execution_count": 22,
      "outputs": [
        {
          "output_type": "stream",
          "name": "stdout",
          "text": [
            "Relatório de Classificação:\n",
            "                    precision    recall  f1-score   support\n",
            "\n",
            "      Non_Demented       0.59      0.85      0.69       689\n",
            "Very_Mild_Demented       0.70      0.36      0.48       655\n",
            "\n",
            "          accuracy                           0.62      1344\n",
            "         macro avg       0.64      0.61      0.59      1344\n",
            "      weighted avg       0.64      0.62      0.59      1344\n",
            "\n",
            "F1-score: 0.48\n",
            "Acurácia: 0.62\n"
          ]
        }
      ]
    },
    {
      "cell_type": "code",
      "source": [
        "matriz_confusao1 = confusion_matrix(rotulos_teste1, predicoes1)\n",
        "\n",
        "# Criar um heatmap da matriz de confusão\n",
        "plt.figure(figsize=(6, 4))\n",
        "sns.heatmap(matriz_confusao1, annot=True, fmt='d', cmap='Blues', xticklabels=[\"Non_Demented\", \"Very_Mild_Demented\"], yticklabels=[\"Non_Demented\", \"Very_Mild_Demented\"])\n",
        "plt.xlabel(\"Rótulos Reais\")\n",
        "plt.ylabel(\"Previsões\")\n",
        "plt.title(\"Matriz de Confusão\")\n",
        "plt.show()"
      ],
      "metadata": {
        "colab": {
          "base_uri": "https://localhost:8080/",
          "height": 410
        },
        "id": "PPWZeluYBVap",
        "outputId": "9ca82c98-dbf9-4834-8533-d74b95389721"
      },
      "execution_count": 23,
      "outputs": [
        {
          "output_type": "display_data",
          "data": {
            "text/plain": [
              "<Figure size 600x400 with 2 Axes>"
            ],
            "image/png": "[encoded data removed]"
          },
          "metadata": {}
        }
      ]
    },
    {
      "cell_type": "markdown",
      "source": [
        "## ResNet"
      ],
      "metadata": {
        "id": "w0CKKdIZNdE4"
      }
    },
    {
      "cell_type": "code",
      "source": [
        "# Prever as classes das imagens de teste\n",
        "predicoes2 = mlp2.predict(dados_teste2)\n",
        "\n",
        "# Calcular o F1-score\n",
        "f12 = f1_score(rotulos_teste2, predicoes2)\n",
        "acc2 = accuracy_score(rotulos_teste2, predicoes2)\n",
        "\n",
        "# Imprimir o relatório de classificação (incluindo precisão, recall e F1-score)\n",
        "relatorio2 = classification_report(rotulos_teste2, predicoes2, target_names=[\"Non_Demented\", \"Very_Mild_Demented\"])\n",
        "print(\"Relatório de Classificação:\")\n",
        "print(relatorio2)\n",
        "\n",
        "print(f\"F1-score: {f12:.2f}\")\n",
        "print(f\"Acurácia: {acc2:.2f}\")"
      ],
      "metadata": {
        "id": "lN2XvKA_xQWo",
        "colab": {
          "base_uri": "https://localhost:8080/"
        },
        "outputId": "ff1f9ce8-e059-496c-e515-89e60766eb32"
      },
      "execution_count": 24,
      "outputs": [
        {
          "output_type": "stream",
          "name": "stdout",
          "text": [
            "Relatório de Classificação:\n",
            "                    precision    recall  f1-score   support\n",
            "\n",
            "      Non_Demented       0.85      0.90      0.87       689\n",
            "Very_Mild_Demented       0.88      0.83      0.85       655\n",
            "\n",
            "          accuracy                           0.86      1344\n",
            "         macro avg       0.86      0.86      0.86      1344\n",
            "      weighted avg       0.86      0.86      0.86      1344\n",
            "\n",
            "F1-score: 0.85\n",
            "Acurácia: 0.86\n"
          ]
        }
      ]
    },
    {
      "cell_type": "code",
      "source": [
        "matriz_confusao2 = confusion_matrix(rotulos_teste2, predicoes2)\n",
        "\n",
        "# Criar um heatmap da matriz de confusão\n",
        "plt.figure(figsize=(6, 4))\n",
        "sns.heatmap(matriz_confusao2, annot=True, fmt='d', cmap='Blues', xticklabels=[\"Non_Demented\", \"Very_Mild_Demented\"], yticklabels=[\"Non_Demented\", \"Very_Mild_Demented\"])\n",
        "plt.xlabel(\"Rótulos Reais\")\n",
        "plt.ylabel(\"Previsões\")\n",
        "plt.title(\"Matriz de Confusão\")\n",
        "plt.show()"
      ],
      "metadata": {
        "colab": {
          "base_uri": "https://localhost:8080/",
          "height": 410
        },
        "id": "KxxZC5HyNfeo",
        "outputId": "06927046-7df4-47c2-ae22-4bea60b29a1c"
      },
      "execution_count": 25,
      "outputs": [
        {
          "output_type": "display_data",
          "data": {
            "text/plain": [
              "<Figure size 600x400 with 2 Axes>"
            ],
            "image/png": "[encoded data removed]"
          },
          "metadata": {}
        }
      ]
    },
    {
      "cell_type": "markdown",
      "source": [
        "# 2.5 Uso do Conhecimento"
      ],
      "metadata": {
        "id": "qmCuQSLoxLFD"
      }
    },
    {
      "cell_type": "markdown",
      "source": [
        "É possível classificar os dados, distinguindo entre ausência de demência e estágio inicial de demência. Isso pode desempenhar um papel crucial na detecção precoce da doença, permitindo o acesso a tratamentos que podem retardar a progressão da demência. Além disso, a implementação de mecanismos auxiliares no diagnóstico tem demonstrado grande utilidade, especialmente em um contexto de recursos hospitalares limitados, além de contribuir para a redução de erros médicos."
      ],
      "metadata": {
        "id": "AF1loQfixRVS"
      }
    }
  ]
}